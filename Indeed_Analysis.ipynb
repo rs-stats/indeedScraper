{
 "cells": [
  {
   "cell_type": "markdown",
   "metadata": {},
   "source": [
    "# The most demanded skills in the data science market for the city of Barcelona"
   ]
  },
  {
   "cell_type": "markdown",
   "metadata": {},
   "source": [
    "This is the analysis that accompanies the blog post \"The most demanded skills in the data science market for the city of Barcelona\" published in the website Medium on February 2019.\n",
    "\n",
    "https://medium.com/@RS_stats/the-most-demanded-skills-in-the-data-science-market-for-the-city-of-barcelona-bb09567c710e"
   ]
  },
  {
   "cell_type": "markdown",
   "metadata": {},
   "source": [
    "## Import libraries"
   ]
  },
  {
   "cell_type": "code",
   "execution_count": 3,
   "metadata": {},
   "outputs": [],
   "source": [
    "import pandas as pd\n",
    "import numpy as np\n",
    "import codecs\n",
    "import seaborn as sns"
   ]
  },
  {
   "cell_type": "markdown",
   "metadata": {},
   "source": [
    "## Define functions to count word frequencies"
   ]
  },
  {
   "cell_type": "markdown",
   "metadata": {},
   "source": [
    "I found the blog post from Isai [B. Cicourel](https://www.codementor.io/isaib.cicourel/word-frequency-in-python-e7cyzy6l9) very helpful to calculate word frequencies in Python. These functions are taken from his blog post. Later I discovered that Scikit-Learn has a wonderful set of tools to analyze text data easily. See this [link from Jason Brownlee](https://machinelearningmastery.com/prepare-text-data-machine-learning-scikit-learn/) for a nice description on how to use it."
   ]
  },
  {
   "cell_type": "code",
   "execution_count": 4,
   "metadata": {},
   "outputs": [],
   "source": [
    "# Define function tokenize. This functions split the words of a text and converts them to lowercase\n",
    "def tokenize():\n",
    "    if book is not None:\n",
    "        words = book.lower().split()\n",
    "        return words\n",
    "    else:\n",
    "        return None\n",
    "        \n",
    "# Define function map_book. Counts the frequency of the words inside tokens \n",
    "def map_book(tokens):\n",
    "    hash_map = {}\n",
    "\n",
    "    if tokens is not None:\n",
    "        for element in tokens:\n",
    "            # Remove Punctuation\n",
    "            word = element.replace(\",\",\"\")\n",
    "            word = word.replace(\".\",\"\")\n",
    "\n",
    "            # Word Exist?\n",
    "            if word in hash_map:\n",
    "                hash_map[word] = hash_map[word] + 1\n",
    "            else:\n",
    "                hash_map[word] = 1\n",
    "\n",
    "        return hash_map\n",
    "    else:\n",
    "        return None"
   ]
  },
  {
   "cell_type": "markdown",
   "metadata": {},
   "source": [
    "# Read CSV files on a pandas dataframe"
   ]
  },
  {
   "cell_type": "code",
   "execution_count": 19,
   "metadata": {},
   "outputs": [
    {
     "data": {
      "text/html": [
       "<div>\n",
       "<style scoped>\n",
       "    .dataframe tbody tr th:only-of-type {\n",
       "        vertical-align: middle;\n",
       "    }\n",
       "\n",
       "    .dataframe tbody tr th {\n",
       "        vertical-align: top;\n",
       "    }\n",
       "\n",
       "    .dataframe thead th {\n",
       "        text-align: right;\n",
       "    }\n",
       "</style>\n",
       "<table border=\"1\" class=\"dataframe\">\n",
       "  <thead>\n",
       "    <tr style=\"text-align: right;\">\n",
       "      <th></th>\n",
       "      <th>job_Name</th>\n",
       "      <th>job_Company</th>\n",
       "      <th>job_Description_File</th>\n",
       "    </tr>\n",
       "  </thead>\n",
       "  <tbody>\n",
       "    <tr>\n",
       "      <th>0</th>\n",
       "      <td>Senior Backend Developer - Data Science</td>\n",
       "      <td>Networkers</td>\n",
       "      <td>File_0.txt</td>\n",
       "    </tr>\n",
       "    <tr>\n",
       "      <th>1</th>\n",
       "      <td>Project Planning Officer - Relocate to Belgium</td>\n",
       "      <td>Daikin</td>\n",
       "      <td>File_1.txt</td>\n",
       "    </tr>\n",
       "    <tr>\n",
       "      <th>2</th>\n",
       "      <td>Data Science Intern</td>\n",
       "      <td>Cien</td>\n",
       "      <td>File_2.txt</td>\n",
       "    </tr>\n",
       "    <tr>\n",
       "      <th>3</th>\n",
       "      <td>Data Science Internship</td>\n",
       "      <td>King</td>\n",
       "      <td>File_3.txt</td>\n",
       "    </tr>\n",
       "    <tr>\n",
       "      <th>4</th>\n",
       "      <td>Data Science</td>\n",
       "      <td>Zurich Insurance Group</td>\n",
       "      <td>File_4.txt</td>\n",
       "    </tr>\n",
       "  </tbody>\n",
       "</table>\n",
       "</div>"
      ],
      "text/plain": [
       "                                         job_Name             job_Company  \\\n",
       "0         Senior Backend Developer - Data Science              Networkers   \n",
       "1  Project Planning Officer - Relocate to Belgium                  Daikin   \n",
       "2                             Data Science Intern                    Cien   \n",
       "3                         Data Science Internship                    King   \n",
       "4                                    Data Science  Zurich Insurance Group   \n",
       "\n",
       "  job_Description_File  \n",
       "0           File_0.txt  \n",
       "1           File_1.txt  \n",
       "2           File_2.txt  \n",
       "3           File_3.txt  \n",
       "4           File_4.txt  "
      ]
     },
     "execution_count": 19,
     "metadata": {},
     "output_type": "execute_result"
    }
   ],
   "source": [
    "folder = '/Users/raimon/Dropbox/WordCount/WebScraperJobs/mix/DataFrame.csv'\n",
    "\n",
    "df = pd.read_csv(folder, sep =\";\")\n",
    "df.head()"
   ]
  },
  {
   "cell_type": "markdown",
   "metadata": {},
   "source": [
    "# Cleaning data"
   ]
  },
  {
   "cell_type": "markdown",
   "metadata": {},
   "source": [
    "This dataframe is the combination of searching the Indeed web with the terms \"data science\" and \"data scientist\". Therefore, some of the job postings are duplicated (i.e. they appeared in both searches). In this section I eliminated those rows that share job name and job company. "
   ]
  },
  {
   "cell_type": "code",
   "execution_count": 8,
   "metadata": {},
   "outputs": [],
   "source": [
    "df2 = df.drop_duplicates(subset = ['job_Name', 'job_Company']) #Drop duplicates"
   ]
  },
  {
   "cell_type": "markdown",
   "metadata": {},
   "source": [
    "# Word frequency analysis of technical skills"
   ]
  },
  {
   "cell_type": "markdown",
   "metadata": {},
   "source": [
    "In this section I count the word frequency of data science skills (e.g. \"Python\", \"R\", \"Spark\", etc...) that appear in each job description. After defining the list of words to analyze, I create a new dataframe (df3) in which each column is one of these words. Then, I iterate over the job description files to get the frequency the data science skills and we store the data in df3. \"Python\" and \"R\"  appear together in many job descriptions. I create a new column to count those cases. Later I replace NaNs with zeros in a new dataframe (df4). Some words like \"Python\" appear twice or more in some job descriptions. I count them only once and put the results in a final dataframe (df5). Finally, I plot the data!"
   ]
  },
  {
   "cell_type": "code",
   "execution_count": 13,
   "metadata": {},
   "outputs": [
    {
     "data": {
      "text/plain": [
       "<matplotlib.axes._subplots.AxesSubplot at 0x1a1a99ae80>"
      ]
     },
     "execution_count": 13,
     "metadata": {},
     "output_type": "execute_result"
    },
    {
     "data": {
      "image/png": "[encoded data removed]",
      "text/plain": [
       "<Figure size 1080x360 with 1 Axes>"
      ]
     },
     "metadata": {
      "needs_background": "light"
     },
     "output_type": "display_data"
    }
   ],
   "source": [
    "\n",
    "# List of words to analyze\n",
    "word_list = ['python','r','sql', 'hadoop', 'spark', 'java', 'c++', 'matlab', 'sas', 'stata',\n",
    "             'hive', 'excel', 'perl', 'ruby', 'spss', 'hbase', 'image', 'mapreduce', 'mahout', \n",
    "             'tableau', 'scala', 'casandra', 'flume', 'zookeeper', 'sap', 'serious', 'php',\n",
    "             'machine learning', 'random forest', 'SVM', 'pipeline', 'AWS', 'Deep Learning', \n",
    "             'jupyter', 'Data Manipulation', 'interpreting Data', 'algebra', 'feature', 'nlp', \n",
    "             'nosql', 'julia', 'kaggle', 'github']\n",
    "\n",
    "\n",
    "# Create a new dataframe in which each column is a word taken from the previous word_list\n",
    "df3 = pd.concat([df2,pd.DataFrame(columns = word_list)],  sort = False)\n",
    "\n",
    "\n",
    "# Iterate over the job description files\n",
    "for index, row in df3.iterrows():\n",
    "\n",
    "    # Get the file neme where the job is stored\n",
    "    filePath = row['job_Description_File'] \n",
    "\n",
    "    # Open the file\n",
    "    file = codecs.open('/Users/raimon/Dropbox/WordCount/WebScraperJobs/mix/' + filePath, 'r', encoding='utf-8')\n",
    "    \n",
    "    # Read the file and close it\n",
    "    book = file.read()\n",
    "    file.close()\n",
    "    \n",
    "    # Tokenize the words (sepate each word and convert to lowercase) and count the frequency for a given file\n",
    "    words = tokenize()\n",
    "    map = map_book(words)\n",
    "    \n",
    "    # Store word frequency in the dataframe \n",
    "    for word in word_list:\n",
    "        df3.loc[index, word] = map.get(word, np.nan)\n",
    "\n",
    "        \n",
    "# \"Python\" and \"R\"  appear together in many job descriptions. I create a new column to count those cases.\n",
    "df3['python_R'] = df3['python']*df3['r']\n",
    "\n",
    "# I replace NaNs with 0 in a new dataframe (df4)\n",
    "df4 = df3.fillna(0)\n",
    "\n",
    "# Some words like \"Python\" appear twice or more in some job descriptions. \n",
    "# I count them only once in a new dataframe (df5)\n",
    "df5= df5.clip(0,1) \n",
    "\n",
    "# Plot columns with Pandas plots.\n",
    "df5 = df4.drop(['job_Name', 'job_Company', 'job_Description_File'],axis=1)\n",
    "df5.sum().sort_values(ascending = False).plot.bar(figsize=(15, 5))\n"
   ]
  }
 ],
 "metadata": {
  "kernelspec": {
   "display_name": "Python 3",
   "language": "python",
   "name": "python3"
  },
  "language_info": {
   "codemirror_mode": {
    "name": "ipython",
    "version": 3
   },
   "file_extension": ".py",
   "mimetype": "text/x-python",
   "name": "python",
   "nbconvert_exporter": "python",
   "pygments_lexer": "ipython3",
   "version": "3.6.6"
  }
 },
 "nbformat": 4,
 "nbformat_minor": 2
}
